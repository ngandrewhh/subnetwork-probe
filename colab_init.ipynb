{
 "cells": [
  {
   "cell_type": "code",
   "source": [
    "!which python"
   ],
   "metadata": {
    "id": "s24nXLM9soOA",
    "outputId": "ca7f0709-57e6-4229-c3ad-3f69d495622d",
    "colab": {
     "base_uri": "https://localhost:8080/"
    },
    "pycharm": {
     "name": "#%%\n"
    }
   },
   "execution_count": 1,
   "outputs": [
    {
     "output_type": "stream",
     "name": "stdout",
     "text": [
      "/usr/local/bin/python\n"
     ]
    }
   ]
  },
  {
   "cell_type": "code",
   "execution_count": null,
   "outputs": [],
   "source": [
    "!pip install torch"
   ],
   "metadata": {
    "collapsed": false,
    "pycharm": {
     "name": "#%%\n"
    }
   }
  },
  {
   "cell_type": "code",
   "execution_count": null,
   "outputs": [],
   "source": [
    "!pip install matplotlib transformers nltk"
   ],
   "metadata": {
    "collapsed": false,
    "pycharm": {
     "name": "#%%\n"
    }
   }
  },
  {
   "cell_type": "code",
   "execution_count": null,
   "outputs": [],
   "source": [
    "!git clone https://github.com/ngandrewhh/subnetwork-probe"
   ],
   "metadata": {
    "collapsed": false,
    "pycharm": {
     "name": "#%%\n"
    }
   }
  },
  {
   "cell_type": "code",
   "execution_count": null,
   "outputs": [],
   "source": [
    "import os \n",
    "if os.getcwd().endswith('content'):\n",
    "  os.chdir('./subnetwork-probe')\n",
    "print(os.getcwd())"
   ],
   "metadata": {
    "collapsed": false,
    "pycharm": {
     "name": "#%%\n"
    }
   }
  },
  {
   "cell_type": "code",
   "execution_count": null,
   "outputs": [],
   "source": [
    "!curl --remote-name-all https://lindat.mff.cuni.cz/repository/xmlui/bitstream/handle/11234/1-1983{/ud-treebanks-v2.0.tgz,/ud-treebanks-conll2017.tgz,/ud-documentation-v2.0.tgz,/ud-tools-v2.0.tgz}"
   ],
   "metadata": {
    "collapsed": false,
    "pycharm": {
     "name": "#%%\n"
    }
   }
  },
  {
   "cell_type": "code",
   "execution_count": null,
   "outputs": [],
   "source": [
    "!mkdir data\n",
    "!tar -xzf \"./ud-treebanks-v2.0.tgz\" -C \"./data/\"\n",
    "!tar -xzf \"./ud-treebanks-conll2017.tgz\" -C \"./data/\"\n",
    "!mv \"./data/ud-treebanks-v2.0/UD_English\" \"./data/UD_English\""
   ],
   "metadata": {
    "collapsed": false,
    "pycharm": {
     "name": "#%%\n"
    }
   }
  },
  {
   "cell_type": "code",
   "execution_count": null,
   "outputs": [],
   "source": [
    "!wget \"https://raw.githubusercontent.com/synalp/NER/master/corpus/CoNLL-2003/eng.train\"\n",
    "!wget \"https://raw.githubusercontent.com/synalp/NER/master/corpus/CoNLL-2003/eng.testa\""
   ],
   "metadata": {
    "collapsed": false,
    "pycharm": {
     "name": "#%%\n"
    }
   }
  },
  {
   "cell_type": "code",
   "execution_count": null,
   "outputs": [],
   "source": [
    "!mkdir -p \"./data/CoNLL-NER/\"\n",
    "!mv \"./eng.train\" \"./data/CoNLL-NER/eng.train\"\n",
    "!mv \"./eng.testa\" \"./data/CoNLL-NER/eng.testa\""
   ],
   "metadata": {
    "collapsed": false,
    "pycharm": {
     "name": "#%%\n"
    }
   }
  },
  {
   "cell_type": "code",
   "execution_count": null,
   "outputs": [],
   "source": [
    "import torch\n",
    "torch.cuda.is_available()"
   ],
   "metadata": {
    "collapsed": false,
    "pycharm": {
     "name": "#%%\n"
    }
   }
  },
  {
   "cell_type": "code",
   "execution_count": null,
   "outputs": [],
   "source": [
    "!python ./code/main.py"
   ],
   "metadata": {
    "collapsed": false,
    "pycharm": {
     "name": "#%%\n"
    }
   }
  },
  {
   "cell_type": "code",
   "execution_count": null,
   "outputs": [],
   "source": [],
   "metadata": {
    "collapsed": false,
    "pycharm": {
     "name": "#%%\n"
    }
   }
  },
  {
   "cell_type": "code",
   "source": [
    "!mkdir -p \"./data/CoNLL-NER/\"\n",
    "!mv \"./eng.train\" \"./data/CoNLL-NER/eng.train\"\n",
    "!mv \"./eng.testa\" \"./data/CoNLL-NER/eng.testa\""
   ],
   "metadata": {
    "id": "JjR4Xu0_IiK8",
    "pycharm": {
     "name": "#%%\n"
    }
   },
   "execution_count": 32,
   "outputs": []
  },
  {
   "cell_type": "code",
   "source": [
    "import torch\n",
    "torch.cuda.is_available()"
   ],
   "metadata": {
    "id": "C0A7wHnTtr4R",
    "pycharm": {
     "name": "#%%\n"
    }
   },
   "execution_count": 7,
   "outputs": []
  },
  {
   "cell_type": "code",
   "source": [
    "!python ./code/main.py"
   ],
   "metadata": {
    "id": "BvnT3841tnv5",
    "outputId": "13736f95-c8b5-4752-f2eb-98aacfaff653",
    "colab": {
     "base_uri": "https://localhost:8080/"
    },
    "pycharm": {
     "name": "#%%\n"
    }
   },
   "execution_count": 21,
   "outputs": [
    {
     "output_type": "stream",
     "name": "stdout",
     "text": [
      "Using CUDA!\n",
      "[nltk_data] Downloading package punkt to /root/nltk_data...\n",
      "[nltk_data]   Package punkt is already up-to-date!\n",
      "UD\n",
      "prune\n",
      "Prune - (out,in)_w_per_mask: (768, 768)\n",
      "Some weights of the model checkpoint at bert-base-uncased were not used when initializing BertModel: ['cls.predictions.transform.LayerNorm.bias', 'cls.predictions.transform.LayerNorm.weight', 'cls.predictions.transform.dense.weight', 'cls.predictions.bias', 'cls.seq_relationship.weight', 'cls.predictions.decoder.weight', 'cls.predictions.transform.dense.bias', 'cls.seq_relationship.bias']\n",
      "- This IS expected if you are initializing BertModel from the checkpoint of a model trained on another task or with another architecture (e.g. initializing a BertForSequenceClassification model from a BertForPreTraining model).\n",
      "- This IS NOT expected if you are initializing BertModel from the checkpoint of a model that you expect to be exactly identical (initializing a BertForSequenceClassification model from a BertForSequenceClassification model).\n",
      "Keeping pre-trained\n",
      "{'lambda_init': 0, 'lambda_final': 1, 'epochs': 20, 'lr_base': 5e-05, 'mask_lr_base': 0.2, 'verbose': True, 'masked': True}\n",
      "Finding subnetwork...\n",
      "Removed length 159\n",
      "Removed length 135\n",
      "lambda_init: 0, lambda_final: 1, lambda_startup_frac: 0.25, lambda_warmup_frac: 0.5\n",
      "lr_base: 5e-05, mask_lr_base: 0.2, lr_warmup_frac: 0.1, epochs: 20, batch_size: 32\n",
      "Log: {'dev_acc': 0.002690352397158649, 'loss_val': 23.67820167541504, 'reg_val': 0.9557064771652222, 'pct_binary': 0.0}\n",
      "Log: {'dev_acc': 0.007369785010124305, 'loss_val': 19.965587615966797, 'reg_val': 0.9356552958488464, 'pct_binary': 0.0}\n",
      "Log: {'dev_acc': 0.01779906318449074, 'loss_val': 16.524913787841797, 'reg_val': 0.9047618508338928, 'pct_binary': 0.0}\n",
      "Log: {'dev_acc': 0.030998809757173517, 'loss_val': 12.979660987854004, 'reg_val': 0.879414975643158, 'pct_binary': 0.0}\n",
      "Log: {'dev_acc': 0.04513132079944126, 'loss_val': 10.13663387298584, 'reg_val': 0.8561952710151672, 'pct_binary': 0.0}\n",
      "Log: {'dev_acc': 0.057025360928708475, 'loss_val': 8.425289154052734, 'reg_val': 0.839987576007843, 'pct_binary': 0.0}\n",
      "Log: {'dev_acc': 0.06367302830319753, 'loss_val': 8.1142578125, 'reg_val': 0.8319340944290161, 'pct_binary': 0.0}\n",
      "Log: {'dev_acc': 0.07690787767898472, 'loss_val': 7.292689323425293, 'reg_val': 0.8256337642669678, 'pct_binary': 0.0}\n",
      "Log: {'dev_acc': 0.08084703020875253, 'loss_val': 6.098440170288086, 'reg_val': 0.8242046236991882, 'pct_binary': 0.020833333333333332}\n",
      "Log: {'dev_acc': 0.13113529077429614, 'loss_val': 5.538644790649414, 'reg_val': 0.8244147300720215, 'pct_binary': 0.020833333333333332}\n",
      "Log: {'dev_acc': 0.16542318301287015, 'loss_val': 5.257737636566162, 'reg_val': 0.8214494585990906, 'pct_binary': 0.020833333333333332}\n",
      "Log: {'dev_acc': 0.18325071842345506, 'loss_val': 5.492100238800049, 'reg_val': 0.8237163424491882, 'pct_binary': 0.034722222222222224}\n",
      "Log: {'dev_acc': 0.1944656771893166, 'loss_val': 5.604316711425781, 'reg_val': 0.8129827976226807, 'pct_binary': 0.04861111111111111}\n",
      "Log: {'dev_acc': 0.2053712423684172, 'loss_val': 5.213939666748047, 'reg_val': 0.8066854476928711, 'pct_binary': 0.06944444444444445}\n",
      "Log: {'dev_acc': 0.22221452881323403, 'loss_val': 5.725101947784424, 'reg_val': 0.8038949370384216, 'pct_binary': 0.08333333333333333}\n",
      "Log: {'dev_acc': 0.2421637850658989, 'loss_val': 5.461773872375488, 'reg_val': 0.8058403134346008, 'pct_binary': 0.1111111111111111}\n",
      "Log: {'dev_acc': 0.2801977113406683, 'loss_val': 4.604347229003906, 'reg_val': 0.8047762513160706, 'pct_binary': 0.1527777777777778}\n",
      "Log: {'dev_acc': 0.3192100418790488, 'loss_val': 4.069612979888916, 'reg_val': 0.8003854155540466, 'pct_binary': 0.19444444444444445}\n",
      "Log: {'dev_acc': 0.3369178550063586, 'loss_val': 4.314428329467773, 'reg_val': 0.7995301485061646, 'pct_binary': 0.24305555555555555}\n",
      "Log: {'dev_acc': 0.3512586656504693, 'loss_val': 3.5075111389160156, 'reg_val': 0.8020970821380615, 'pct_binary': 0.2708333333333333}\n",
      "Log: {'dev_acc': 0.3747117415877028, 'loss_val': 4.029621124267578, 'reg_val': 0.8037880659103394, 'pct_binary': 0.3125}\n",
      "Log: {'dev_acc': 0.3823862028822206, 'loss_val': 3.6025805473327637, 'reg_val': 0.8055642247200012, 'pct_binary': 0.3402777777777778}\n",
      "Log: {'dev_acc': 0.41514610048235095, 'loss_val': 4.0404462814331055, 'reg_val': 0.8109855055809021, 'pct_binary': 0.3680555555555556}\n",
      "Log: {'dev_acc': 0.44124546348513544, 'loss_val': 3.003378391265869, 'reg_val': 0.8146880865097046, 'pct_binary': 0.3958333333333333}\n",
      "Log: {'dev_acc': 0.4640538042620988, 'loss_val': 2.8062222003936768, 'reg_val': 0.8233753442764282, 'pct_binary': 0.4166666666666667}\n",
      "Log: {'dev_acc': 0.49387692702274366, 'loss_val': 2.8046977519989014, 'reg_val': 0.8328210115432739, 'pct_binary': 0.4305555555555556}\n",
      "Log: {'dev_acc': 0.5178210466398886, 'loss_val': 2.497018575668335, 'reg_val': 0.8327587842941284, 'pct_binary': 0.4513888888888889}\n",
      "Log: {'dev_acc': 0.538057671439191, 'loss_val': 3.2142333984375, 'reg_val': 0.8365200161933899, 'pct_binary': 0.4722222222222222}\n",
      "Log: {'dev_acc': 0.5638533112655352, 'loss_val': 3.6036505699157715, 'reg_val': 0.8358085751533508, 'pct_binary': 0.4791666666666667}\n",
      "Log: {'dev_acc': 0.5864329106039143, 'loss_val': 2.5978856086730957, 'reg_val': 0.8399966359138489, 'pct_binary': 0.5}\n",
      "Log: {'dev_acc': 0.5943825419601365, 'loss_val': 2.3187129497528076, 'reg_val': 0.8396358489990234, 'pct_binary': 0.5138888888888888}\n",
      "Log: {'dev_acc': 0.6229145483322064, 'loss_val': 2.4945297241210938, 'reg_val': 0.8405018448829651, 'pct_binary': 0.5347222222222222}\n",
      "Log: {'dev_acc': 0.6338462927697917, 'loss_val': 2.3636813163757324, 'reg_val': 0.8385828137397766, 'pct_binary': 0.5416666666666666}\n",
      "Log: {'dev_acc': 0.6472550468740876, 'loss_val': 1.7154819965362549, 'reg_val': 0.8369002938270569, 'pct_binary': 0.5416666666666666}\n",
      "Log: {'dev_acc': 0.6578918872931231, 'loss_val': 1.8997244834899902, 'reg_val': 0.8344999551773071, 'pct_binary': 0.5694444444444444}\n",
      "Log: {'dev_acc': 0.6692319397255125, 'loss_val': 2.0359385013580322, 'reg_val': 0.8283710479736328, 'pct_binary': 0.5694444444444444}\n",
      "Log: {'dev_acc': 0.6813202494939682, 'loss_val': 2.0778660774230957, 'reg_val': 0.8209138512611389, 'pct_binary': 0.5833333333333334}\n",
      "Log: {'dev_acc': 0.6912389468972164, 'loss_val': 2.471515655517578, 'reg_val': 0.815921425819397, 'pct_binary': 0.5972222222222222}\n",
      "Log: {'dev_acc': 0.6966927020952173, 'loss_val': 2.312530517578125, 'reg_val': 0.8096529841423035, 'pct_binary': 0.6041666666666666}\n",
      "Log: {'dev_acc': 0.7049141775270973, 'loss_val': 1.666494369506836, 'reg_val': 0.8036482334136963, 'pct_binary': 0.625}\n",
      "Log: {'dev_acc': 0.7123918781962045, 'loss_val': 1.9808602333068848, 'reg_val': 0.796052873134613, 'pct_binary': 0.6319444444444444}\n",
      "Log: {'dev_acc': 0.7200536450628865, 'loss_val': 2.6703548431396484, 'reg_val': 0.7913404703140259, 'pct_binary': 0.6527777777777778}\n",
      "Log: {'dev_acc': 0.725514635095294, 'loss_val': 2.019028425216675, 'reg_val': 0.7866675853729248, 'pct_binary': 0.6597222222222222}\n",
      "Log: {'dev_acc': 0.7281086641964485, 'loss_val': 1.8479700088500977, 'reg_val': 0.7829115986824036, 'pct_binary': 0.6805555555555556}\n",
      "Log: {'dev_acc': 0.7336021221914161, 'loss_val': 2.1181230545043945, 'reg_val': 0.7792738080024719, 'pct_binary': 0.7152777777777778}\n",
      "Log: {'dev_acc': 0.7357322772239658, 'loss_val': 1.4087648391723633, 'reg_val': 0.7745617628097534, 'pct_binary': 0.75}\n",
      "Log: {'dev_acc': 0.7376088893137888, 'loss_val': 1.978468656539917, 'reg_val': 0.767205536365509, 'pct_binary': 0.7638888888888888}\n",
      "Log: {'dev_acc': 0.7464467065794247, 'loss_val': 1.3056468963623047, 'reg_val': 0.7570401430130005, 'pct_binary': 0.7708333333333334}\n",
      "Log: {'dev_acc': 0.7512499043219756, 'loss_val': 1.8433445692062378, 'reg_val': 0.7511471509933472, 'pct_binary': 0.7777777777777778}\n",
      "Log: {'dev_acc': 0.7528870411452524, 'loss_val': 1.2981910705566406, 'reg_val': 0.7491836547851562, 'pct_binary': 0.7916666666666666}\n",
      "Log: {'dev_acc': 0.7563808667583672, 'loss_val': 0.9414723515510559, 'reg_val': 0.7442358732223511, 'pct_binary': 0.8125}\n",
      "Log: {'dev_acc': 0.7588084461479104, 'loss_val': 1.5102992057800293, 'reg_val': 0.736725926399231, 'pct_binary': 0.8125}\n",
      "Log: {'dev_acc': 0.7618713252155286, 'loss_val': 1.360818862915039, 'reg_val': 0.727562427520752, 'pct_binary': 0.8194444444444444}\n",
      "Log: {'dev_acc': 0.7629764203826934, 'loss_val': 1.5192540884017944, 'reg_val': 0.721744179725647, 'pct_binary': 0.8263888888888888}\n",
      "Log: {'dev_acc': 0.7692624336269773, 'loss_val': 1.0850064754486084, 'reg_val': 0.719461977481842, 'pct_binary': 0.8333333333333334}\n",
      "Log: {'dev_acc': 0.7724645230926237, 'loss_val': 1.6966899633407593, 'reg_val': 0.7178246974945068, 'pct_binary': 0.8333333333333334}\n",
      "Log: {'dev_acc': 0.7719154349886943, 'loss_val': 1.2273757457733154, 'reg_val': 0.7163234353065491, 'pct_binary': 0.8402777777777778}\n",
      "Log: {'dev_acc': 0.7788196210976603, 'loss_val': 1.4772251844406128, 'reg_val': 0.7164829969406128, 'pct_binary': 0.8472222222222222}\n",
      "Log: {'dev_acc': 0.7771270405384861, 'loss_val': 1.278886079788208, 'reg_val': 0.7150061130523682, 'pct_binary': 0.8472222222222222}\n",
      "Log: {'dev_acc': 0.7792976127846283, 'loss_val': 1.4588401317596436, 'reg_val': 0.7135993838310242, 'pct_binary': 0.8541666666666666}\n",
      "Log: {'dev_acc': 0.7843573682324855, 'loss_val': 1.6761856079101562, 'reg_val': 0.7138139009475708, 'pct_binary': 0.8541666666666666}\n",
      "Log: {'dev_acc': 0.7844692922412801, 'loss_val': 1.1913630962371826, 'reg_val': 0.7141307592391968, 'pct_binary': 0.8541666666666666}\n",
      "Log: {'dev_acc': 0.7864825332977767, 'loss_val': 0.7985355257987976, 'reg_val': 0.7114749550819397, 'pct_binary': 0.8680555555555556}\n",
      "Log: {'dev_acc': 0.7910305687105944, 'loss_val': 1.1473299264907837, 'reg_val': 0.7106154561042786, 'pct_binary': 0.8680555555555556}\n",
      "Log: {'dev_acc': 0.7905227078350126, 'loss_val': 1.8017430305480957, 'reg_val': 0.7107529640197754, 'pct_binary': 0.875}\n",
      "Log: {'dev_acc': 0.7920257955071005, 'loss_val': 1.3845711946487427, 'reg_val': 0.7099645733833313, 'pct_binary': 0.875}\n",
      "Log: {'dev_acc': 0.795082871188413, 'loss_val': 1.4942796230316162, 'reg_val': 0.7086317539215088, 'pct_binary': 0.875}\n",
      "Log: {'dev_acc': 0.795455331438669, 'loss_val': 1.7065565586090088, 'reg_val': 0.7058879733085632, 'pct_binary': 0.875}\n",
      "Log: {'dev_acc': 0.7959324910695988, 'loss_val': 1.1236612796783447, 'reg_val': 0.6976780891418457, 'pct_binary': 0.8819444444444444}\n",
      "Log: {'dev_acc': 0.7960909033871467, 'loss_val': 1.2771425247192383, 'reg_val': 0.6927716732025146, 'pct_binary': 0.8819444444444444}\n",
      "Traceback (most recent call last):\n",
      "  File \"./code/main.py\", line 89, in <module>\n",
      "    './data/UD_English/en-ud-dev.conllu', **kwargs)\n",
      "  File \"/content/subnetwork-probe/code/train.py\", line 235, in train_ud\n",
      "    trainer.step()\n",
      "  File \"/usr/local/lib/python3.7/dist-packages/torch/optim/optimizer.py\", line 113, in wrapper\n",
      "    return func(*args, **kwargs)\n",
      "  File \"/usr/local/lib/python3.7/dist-packages/torch/autograd/grad_mode.py\", line 27, in decorate_context\n",
      "    return func(*args, **kwargs)\n",
      "  File \"/usr/local/lib/python3.7/dist-packages/torch/optim/adam.py\", line 171, in step\n",
      "    capturable=group['capturable'])\n",
      "  File \"/usr/local/lib/python3.7/dist-packages/torch/optim/adam.py\", line 226, in adam\n",
      "    capturable=capturable)\n",
      "  File \"/usr/local/lib/python3.7/dist-packages/torch/optim/adam.py\", line 305, in _single_tensor_adam\n",
      "    denom = (exp_avg_sq.sqrt() / bias_correction2_sqrt).add_(eps)\n",
      "KeyboardInterrupt\n"
     ]
    }
   ]
  },
  {
   "cell_type": "code",
   "source": [],
   "metadata": {
    "id": "68LRFG_TxjVk",
    "pycharm": {
     "name": "#%%\n"
    }
   },
   "execution_count": 8,
   "outputs": []
  }
 ],
 "metadata": {
  "kernelspec": {
   "display_name": "Python 3",
   "language": "python",
   "name": "python3"
  },
  "language_info": {
   "codemirror_mode": {
    "name": "ipython",
    "version": 2
   },
   "file_extension": ".py",
   "mimetype": "text/x-python",
   "name": "python",
   "nbconvert_exporter": "python",
   "pygments_lexer": "ipython2",
   "version": "2.7.6"
  },
  "colab": {
   "provenance": []
  },
  "accelerator": "GPU",
  "gpuClass": "standard"
 },
 "nbformat": 4,
 "nbformat_minor": 0
}