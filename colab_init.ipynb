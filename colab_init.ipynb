{
 "cells": [
  {
   "cell_type": "code",
   "source": [
    "!which python"
   ],
   "metadata": {
    "id": "s24nXLM9soOA",
    "outputId": "ca7f0709-57e6-4229-c3ad-3f69d495622d",
    "colab": {
     "base_uri": "https://localhost:8080/"
    },
    "pycharm": {
     "name": "#%%\n",
     "is_executing": true
    }
   },
   "execution_count": null,
   "outputs": []
  },
  {
   "cell_type": "code",
   "execution_count": null,
   "outputs": [],
   "source": [
    "!pip install torch"
   ],
   "metadata": {
    "collapsed": false,
    "pycharm": {
     "name": "#%%\n",
     "is_executing": true
    }
   }
  },
  {
   "cell_type": "code",
   "execution_count": null,
   "outputs": [],
   "source": [
    "!pip install matplotlib transformers nltk datasets"
   ],
   "metadata": {
    "collapsed": false,
    "pycharm": {
     "name": "#%%\n",
     "is_executing": true
    }
   }
  },
  {
   "cell_type": "code",
   "execution_count": null,
   "outputs": [],
   "source": [
    "!git clone https://github.com/ngandrewhh/subnetwork-probe"
   ],
   "metadata": {
    "collapsed": false,
    "pycharm": {
     "name": "#%%\n",
     "is_executing": true
    }
   }
  },
  {
   "cell_type": "code",
   "execution_count": null,
   "outputs": [],
   "source": [
    "import os \n",
    "if not os.getcwd().endswith('subnetwork-probe'):\n",
    "  os.chdir('./subnetwork-probe')\n",
    "print(os.getcwd())"
   ],
   "metadata": {
    "collapsed": false,
    "pycharm": {
     "name": "#%%\n",
     "is_executing": true
    }
   }
  },
  {
   "cell_type": "code",
   "execution_count": null,
   "outputs": [],
   "source": [
    "!curl --remote-name-all https://lindat.mff.cuni.cz/repository/xmlui/bitstream/handle/11234/1-1983/ud-treebanks-v2.0.tgz"
   ],
   "metadata": {
    "collapsed": false,
    "pycharm": {
     "name": "#%%\n",
     "is_executing": true
    }
   }
  },
  {
   "cell_type": "code",
   "execution_count": 11,
   "outputs": [],
   "source": [
    "!mkdir data\n",
    "!tar -xzf \"./ud-treebanks-v2.0.tgz\" -C \".\"\n",
    "!mv \"./ud-treebanks-v2.0/UD_English\" \"./data/UD_English\""
   ],
   "metadata": {
    "collapsed": false,
    "pycharm": {
     "name": "#%%\n"
    }
   }
  },
  {
   "cell_type": "code",
   "execution_count": 3,
   "outputs": [
    {
     "name": "stdout",
     "output_type": "stream",
     "text": [
      "--2022-11-26 11:25:12--  https://raw.githubusercontent.com/synalp/NER/master/corpus/CoNLL-2003/eng.train\r\n",
      "Resolving raw.githubusercontent.com (raw.githubusercontent.com)... 185.199.109.133, 185.199.111.133, 185.199.110.133, ...\r\n",
      "Connecting to raw.githubusercontent.com (raw.githubusercontent.com)|185.199.109.133|:443... connected.\r\n",
      "HTTP request sent, awaiting response... 200 OK\r\n",
      "Length: 3281528 (3.1M) [text/plain]\r\n",
      "Saving to: ‘./data/CoNLL-NER/eng.train’\r\n",
      "\r\n",
      "eng.train           100%[===================>]   3.13M  --.-KB/s    in 0.1s    \r\n",
      "\r\n",
      "2022-11-26 11:25:13 (29.6 MB/s) - ‘./data/CoNLL-NER/eng.train’ saved [3281528/3281528]\r\n",
      "\r\n",
      "--2022-11-26 11:25:13--  https://raw.githubusercontent.com/synalp/NER/master/corpus/CoNLL-2003/eng.testa\r\n",
      "Resolving raw.githubusercontent.com (raw.githubusercontent.com)... 185.199.109.133, 185.199.111.133, 185.199.110.133, ...\r\n",
      "Connecting to raw.githubusercontent.com (raw.githubusercontent.com)|185.199.109.133|:443... connected.\r\n",
      "HTTP request sent, awaiting response... 200 OK\r\n",
      "Length: 827012 (808K) [text/plain]\r\n",
      "Saving to: ‘./data/CoNLL-NER/eng.testa’\r\n",
      "\r\n",
      "eng.testa           100%[===================>] 807.63K  --.-KB/s    in 0.04s   \r\n",
      "\r\n",
      "2022-11-26 11:25:13 (20.0 MB/s) - ‘./data/CoNLL-NER/eng.testa’ saved [827012/827012]\r\n",
      "\r\n"
     ]
    }
   ],
   "source": [
    "!mkdir -p \"./data/CoNLL-NER/\"\n",
    "!wget \"https://raw.githubusercontent.com/synalp/NER/master/corpus/CoNLL-2003/eng.train\" -P \"./data/CoNLL-NER/\"\n",
    "!wget \"https://raw.githubusercontent.com/synalp/NER/master/corpus/CoNLL-2003/eng.testa\" -P \"./data/CoNLL-NER/\""
   ],
   "metadata": {
    "collapsed": false,
    "pycharm": {
     "name": "#%%\n"
    }
   }
  },
  {
   "cell_type": "code",
   "execution_count": null,
   "outputs": [],
   "source": [
    "import torch\n",
    "torch.cuda.is_available()"
   ],
   "metadata": {
    "collapsed": false,
    "pycharm": {
     "name": "#%%\n",
     "is_executing": true
    }
   }
  },
  {
   "cell_type": "code",
   "execution_count": null,
   "outputs": [],
   "source": [
    "!python ./code/main.py"
   ],
   "metadata": {
    "collapsed": false,
    "pycharm": {
     "name": "#%%\n"
    }
   }
  }
 ],
 "metadata": {
  "kernelspec": {
   "display_name": "Python 3",
   "language": "python",
   "name": "python3"
  },
  "language_info": {
   "codemirror_mode": {
    "name": "ipython",
    "version": 2
   },
   "file_extension": ".py",
   "mimetype": "text/x-python",
   "name": "python",
   "nbconvert_exporter": "python",
   "pygments_lexer": "ipython2",
   "version": "2.7.6"
  },
  "colab": {
   "provenance": []
  },
  "accelerator": "GPU",
  "gpuClass": "standard"
 },
 "nbformat": 4,
 "nbformat_minor": 0
}